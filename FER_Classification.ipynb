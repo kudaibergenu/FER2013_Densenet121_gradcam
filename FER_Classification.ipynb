{
 "cells": [
  {
   "cell_type": "code",
   "execution_count": 1,
   "metadata": {},
   "outputs": [],
   "source": [
    "import os\n",
    "import torch\n",
    "from torch import nn\n",
    "from torch.utils.data import DataLoader\n",
    "import torch.utils.tensorboard\n",
    "import torchvision\n",
    "import torchvision.transforms as transforms\n",
    "import numpy as np\n",
    "import random\n",
    "import matplotlib.pyplot as plt\n",
    "import pretrainedmodels\n",
    "from catalyst.utils import set_global_seed, prepare_cudnn\n",
    "from catalyst.dl.runner import SupervisedRunner\n",
    "from catalyst.dl.callbacks import AccuracyCallback, AUCCallback, F1ScoreCallback\n",
    "from catalyst.dl.utils.visualization import plot_metrics\n",
    "from catalyst.utils.torch import get_available_gpus"
   ]
  },
  {
   "cell_type": "code",
   "execution_count": 2,
   "metadata": {},
   "outputs": [],
   "source": [
    "os.environ[\"CUDA_VISIBLE_DEVICES\"]=\"5\"\n"
   ]
  },
  {
   "cell_type": "code",
   "execution_count": 20,
   "metadata": {},
   "outputs": [],
   "source": [
    "SEED = 42\n",
    "set_global_seed(SEED)\n",
    "prepare_cudnn(deterministic=True)\n",
    "model_name = 'densenet121'\n",
    "num_classes = 7\n",
    "NUM_EPOCHS = 10\n",
    "BATCH_SIZE = 32\n"
   ]
  },
  {
   "cell_type": "code",
   "execution_count": 4,
   "metadata": {},
   "outputs": [],
   "source": [
    "model_fn = pretrainedmodels.__dict__[model_name]\n",
    "model = model_fn(num_classes=1000, pretrained='imagenet').cuda()\n",
    "model.last_linear = nn.Linear(1024, num_classes)\n",
    "model = torch.nn.DataParallel(model, device_ids=[0]).cuda()\n"
   ]
  },
  {
   "cell_type": "code",
   "execution_count": 5,
   "metadata": {},
   "outputs": [
    {
     "name": "stdout",
     "output_type": "stream",
     "text": [
      "device: cuda\n"
     ]
    }
   ],
   "source": [
    "from catalyst.dl import utils\n",
    "device = utils.get_device()\n",
    "print(f\"device: {device}\")\n",
    "runner = SupervisedRunner(device=device)\n",
    "logdir = \"./logs/trial\""
   ]
  },
  {
   "cell_type": "code",
   "execution_count": 6,
   "metadata": {},
   "outputs": [
    {
     "data": {
      "text/html": [
       "<div>\n",
       "<style scoped>\n",
       "    .dataframe tbody tr th:only-of-type {\n",
       "        vertical-align: middle;\n",
       "    }\n",
       "\n",
       "    .dataframe tbody tr th {\n",
       "        vertical-align: top;\n",
       "    }\n",
       "\n",
       "    .dataframe thead th {\n",
       "        text-align: right;\n",
       "    }\n",
       "</style>\n",
       "<table border=\"1\" class=\"dataframe\">\n",
       "  <thead>\n",
       "    <tr style=\"text-align: right;\">\n",
       "      <th></th>\n",
       "      <th>emotion</th>\n",
       "      <th>pixels</th>\n",
       "      <th>usage</th>\n",
       "    </tr>\n",
       "  </thead>\n",
       "  <tbody>\n",
       "    <tr>\n",
       "      <th>0</th>\n",
       "      <td>emotion</td>\n",
       "      <td>pixels</td>\n",
       "      <td>Usage</td>\n",
       "    </tr>\n",
       "    <tr>\n",
       "      <th>1</th>\n",
       "      <td>0</td>\n",
       "      <td>70 80 82 72 58 58 60 63 54 58 60 48 89 115 121...</td>\n",
       "      <td>Training</td>\n",
       "    </tr>\n",
       "    <tr>\n",
       "      <th>2</th>\n",
       "      <td>0</td>\n",
       "      <td>151 150 147 155 148 133 111 140 170 174 182 15...</td>\n",
       "      <td>Training</td>\n",
       "    </tr>\n",
       "    <tr>\n",
       "      <th>3</th>\n",
       "      <td>2</td>\n",
       "      <td>231 212 156 164 174 138 161 173 182 200 106 38...</td>\n",
       "      <td>Training</td>\n",
       "    </tr>\n",
       "    <tr>\n",
       "      <th>4</th>\n",
       "      <td>4</td>\n",
       "      <td>24 32 36 30 32 23 19 20 30 41 21 22 32 34 21 1...</td>\n",
       "      <td>Training</td>\n",
       "    </tr>\n",
       "    <tr>\n",
       "      <th>5</th>\n",
       "      <td>6</td>\n",
       "      <td>4 0 0 0 0 0 0 0 0 0 0 0 3 15 23 28 48 50 58 84...</td>\n",
       "      <td>Training</td>\n",
       "    </tr>\n",
       "    <tr>\n",
       "      <th>6</th>\n",
       "      <td>2</td>\n",
       "      <td>55 55 55 55 55 54 60 68 54 85 151 163 170 179 ...</td>\n",
       "      <td>Training</td>\n",
       "    </tr>\n",
       "    <tr>\n",
       "      <th>7</th>\n",
       "      <td>4</td>\n",
       "      <td>20 17 19 21 25 38 42 42 46 54 56 62 63 66 82 1...</td>\n",
       "      <td>Training</td>\n",
       "    </tr>\n",
       "    <tr>\n",
       "      <th>8</th>\n",
       "      <td>3</td>\n",
       "      <td>77 78 79 79 78 75 60 55 47 48 58 73 77 79 57 5...</td>\n",
       "      <td>Training</td>\n",
       "    </tr>\n",
       "    <tr>\n",
       "      <th>9</th>\n",
       "      <td>3</td>\n",
       "      <td>85 84 90 121 101 102 133 153 153 169 177 189 1...</td>\n",
       "      <td>Training</td>\n",
       "    </tr>\n",
       "  </tbody>\n",
       "</table>\n",
       "</div>"
      ],
      "text/plain": [
       "   emotion                                             pixels     usage\n",
       "0  emotion                                             pixels     Usage\n",
       "1        0  70 80 82 72 58 58 60 63 54 58 60 48 89 115 121...  Training\n",
       "2        0  151 150 147 155 148 133 111 140 170 174 182 15...  Training\n",
       "3        2  231 212 156 164 174 138 161 173 182 200 106 38...  Training\n",
       "4        4  24 32 36 30 32 23 19 20 30 41 21 22 32 34 21 1...  Training\n",
       "5        6  4 0 0 0 0 0 0 0 0 0 0 0 3 15 23 28 48 50 58 84...  Training\n",
       "6        2  55 55 55 55 55 54 60 68 54 85 151 163 170 179 ...  Training\n",
       "7        4  20 17 19 21 25 38 42 42 46 54 56 62 63 66 82 1...  Training\n",
       "8        3  77 78 79 79 78 75 60 55 47 48 58 73 77 79 57 5...  Training\n",
       "9        3  85 84 90 121 101 102 133 153 153 169 177 189 1...  Training"
      ]
     },
     "execution_count": 6,
     "metadata": {},
     "output_type": "execute_result"
    }
   ],
   "source": [
    "import pandas as pd\n",
    "filname = 'fer2013.csv'\n",
    "label_map = ['Anger', 'Disgust', 'Fear', 'Happy', 'Sad', 'Surprise', 'Neutral']\n",
    "names=['emotion','pixels','usage']\n",
    "df=pd.read_csv('fer2013.csv',names=names, na_filter=False)\n",
    "im=df['pixels']\n",
    "df.head(10)\n"
   ]
  },
  {
   "cell_type": "code",
   "execution_count": 8,
   "metadata": {},
   "outputs": [],
   "source": [
    "def getData(filname):\n",
    "     # images are 48x48\n",
    "     # N = 35887\n",
    "     Y = []\n",
    "     X = []\n",
    "     first = True\n",
    "     for line in open(filname):\n",
    "         if first:\n",
    "             first = False\n",
    "         else:\n",
    "             row = line.split(',')\n",
    "             Y.append(int(row[0]))\n",
    "             X.append([int(p) for p in row[1].split()])\n",
    "     X, Y = np.array(X) / 255.0, np.array(Y)\n",
    "     return X, Y"
   ]
  },
  {
   "cell_type": "code",
   "execution_count": 9,
   "metadata": {},
   "outputs": [
    {
     "name": "stdout",
     "output_type": "stream",
     "text": [
      "7\n"
     ]
    }
   ],
   "source": [
    "X, Y = getData(filname)\n",
    "num_class = len(set(Y))\n",
    "print(num_class)"
   ]
  },
  {
   "cell_type": "code",
   "execution_count": 10,
   "metadata": {},
   "outputs": [],
   "source": [
    "N, D = X.shape\n",
    "X = X.reshape(N, 48, 48)"
   ]
  },
  {
   "cell_type": "code",
   "execution_count": 13,
   "metadata": {},
   "outputs": [],
   "source": [
    "from sklearn.model_selection import train_test_split\n",
    "X_train, X_test, y_train, y_test = train_test_split(X, Y, test_size=0.2, random_state =42)\n"
   ]
  },
  {
   "cell_type": "code",
   "execution_count": 14,
   "metadata": {},
   "outputs": [],
   "source": [
    "from PIL import Image\n",
    "from torch.utils.data import Dataset\n",
    "class my_dataset(Dataset):\n",
    "     def __init__(self, x, y, transform=None):\n",
    "         \"\"\"\n",
    "         Args:\n",
    "         csv_file (string): Path to the csv file with annotations.\n",
    "         root_dir (string): Directory with all the images.\n",
    "         transform (callable, optional): Optional transform to be applied\n",
    "         on a sample.\n",
    "         \"\"\"\n",
    "         self.x = x\n",
    "         self.y = y\n",
    "         self.transform = transform\n",
    "     def __len__(self):\n",
    "         return len(self.x)\n",
    "     def __getitem__(self, idx):\n",
    "         fft_p = (X_train[idx]*255).astype(np.uint8)\n",
    "         image = Image.fromarray(fft_p)\n",
    "         image = self.transform(image)\n",
    "         sample = (image, self.y[idx])\n",
    "\n",
    "\n",
    "         return sample"
   ]
  },
  {
   "cell_type": "code",
   "execution_count": 17,
   "metadata": {},
   "outputs": [],
   "source": [
    "imsize = 224\n",
    "trans = transforms.Compose([transforms.Resize(imsize),\n",
    " transforms.Grayscale(num_output_channels=3),\n",
    " transforms.ToTensor(),\n",
    " ])\n",
    "data_train = my_dataset(X_train,y_train,trans)\n",
    "data_test = my_dataset(X_test,y_test,trans)\n",
    "trainloader = torch.utils.data.DataLoader(data_train, batch_size=BATCH_SIZE,  num_workers =4)\n",
    "testloader = torch.utils.data.DataLoader(data_test, batch_size=BATCH_SIZE, num_workers =4)"
   ]
  },
  {
   "cell_type": "code",
   "execution_count": 18,
   "metadata": {},
   "outputs": [
    {
     "name": "stdout",
     "output_type": "stream",
     "text": [
      "tensor(2)\n"
     ]
    },
    {
     "data": {
      "image/png": "[encoded data removed]",
      "text/plain": [
       "<Figure size 432x288 with 1 Axes>"
      ]
     },
     "metadata": {
      "needs_background": "light"
     },
     "output_type": "display_data"
    }
   ],
   "source": [
    "batch = next(iter(testloader))\n",
    "images, label= batch\n",
    "ids = random.choice(range(BATCH_SIZE))\n",
    "plt.imshow(images[ids][0], cmap='bone')\n",
    "print(label[ids])\n",
    "plt.show()\n"
   ]
  },
  {
   "cell_type": "code",
   "execution_count": 19,
   "metadata": {},
   "outputs": [],
   "source": [
    "loaders = {\"train\":trainloader, \"valid\": testloader}\n",
    "criterion = nn.CrossEntropyLoss()\n",
    "optimizer = torch.optim.Adam(model.parameters(), lr=0.0001, betas=(0.9, 0.999),\n",
    " eps=1e-08, weight_decay=1e-5)\n",
    "scheduler = torch.optim.lr_scheduler.ReduceLROnPlateau(optimizer,\n",
    " mode='min',\n",
    "factor=0.1,\n",
    "patience=3\n",
    " )"
   ]
  },
  {
   "cell_type": "code",
   "execution_count": null,
   "metadata": {},
   "outputs": [
    {
     "data": {
      "application/javascript": [
       "IPython.notebook.save_checkpoint();"
      ],
      "text/plain": [
       "<IPython.core.display.Javascript object>"
      ]
     },
     "metadata": {},
     "output_type": "display_data"
    },
    {
     "data": {
      "application/javascript": [
       "IPython.notebook.save_checkpoint();"
      ],
      "text/plain": [
       "<IPython.core.display.Javascript object>"
      ]
     },
     "metadata": {},
     "output_type": "display_data"
    },
    {
     "name": "stdout",
     "output_type": "stream",
     "text": [
      "1/10 * Epoch (train): 100% 898/898 [03:35<00:00,  4.16it/s, accuracy01=20.000, accuracy03=80.000, accuracy05=80.000, loss=2.215]  \n",
      "1/10 * Epoch (valid): 100% 225/225 [00:16<00:00, 13.99it/s, accuracy01=20.000, accuracy03=50.000, accuracy05=80.000, loss=3.547]   \n",
      "[2020-04-02 22:45:52,649] \n",
      "1/10 * Epoch 1 (train): _base/lr=0.0001 | _base/momentum=0.9000 | _timers/_fps=702.9244 | _timers/batch_time=0.0483 | _timers/data_time=0.0093 | _timers/model_time=0.0390 | accuracy01=57.7304 | accuracy03=87.0253 | accuracy05=97.4374 | loss=1.1260\n",
      "1/10 * Epoch 1 (valid): _base/lr=0.0001 | _base/momentum=0.9000 | _timers/_fps=984.1881 | _timers/batch_time=0.0385 | _timers/data_time=0.0106 | _timers/model_time=0.0279 | accuracy01=17.8944 | accuracy03=48.5000 | accuracy05=79.3278 | loss=3.2593\n",
      "2/10 * Epoch (train):  78% 703/898 [02:55<00:50,  3.88it/s, accuracy01=75.000, accuracy03=93.750, accuracy05=93.750, loss=0.752]  "
     ]
    }
   ],
   "source": [
    "runner.train(\n",
    "     model=model,\n",
    "     logdir=logdir,\n",
    "     criterion=criterion,\n",
    "     optimizer=optimizer,\n",
    "     scheduler=scheduler,\n",
    "     loaders=loaders,\n",
    "     num_epochs=NUM_EPOCHS,\n",
    "     # We can specify the callbacks list for the experiment;\n",
    "     # For this task, we will check Accuracy\n",
    "     callbacks=[\n",
    "        # F1ScoreCallback(\n",
    "        # input_key = \"targets\",\n",
    "        # output_key = 'logits',\n",
    "        # prefix = 'f1_score',\n",
    "        # beta = 1.0,\n",
    "        # eps = 1e-07,\n",
    "        # threshold = None,\n",
    "        # activation=None,\n",
    "        # ),\n",
    "\n",
    "         AccuracyCallback(\n",
    "             input_key=\"targets\",\n",
    "             output_key='logits',\n",
    "             prefix='accuracy',\n",
    "             num_classes=num_classes,\n",
    "             activation=None,\n",
    "         ),\n",
    "     ],\n",
    "     verbose=True,\n",
    ")"
   ]
  },
  {
   "cell_type": "code",
   "execution_count": null,
   "metadata": {},
   "outputs": [],
   "source": []
  },
  {
   "cell_type": "code",
   "execution_count": null,
   "metadata": {},
   "outputs": [],
   "source": []
  }
 ],
 "metadata": {
  "kernelspec": {
   "display_name": "Python 3",
   "language": "python",
   "name": "python3"
  },
  "language_info": {
   "codemirror_mode": {
    "name": "ipython",
    "version": 3
   },
   "file_extension": ".py",
   "mimetype": "text/x-python",
   "name": "python",
   "nbconvert_exporter": "python",
   "pygments_lexer": "ipython3",
   "version": "3.7.3"
  }
 },
 "nbformat": 4,
 "nbformat_minor": 2
}
